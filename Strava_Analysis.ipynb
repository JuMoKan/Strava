{
 "cells": [
  {
   "cell_type": "markdown",
   "metadata": {},
   "source": [
    "## Bike Rides Analysis"
   ]
  },
  {
   "cell_type": "markdown",
   "metadata": {},
   "source": [
    "### Connect to Strava API"
   ]
  },
  {
   "cell_type": "markdown",
   "metadata": {},
   "source": [
    "https://github.com/hozn/stravalib  \n",
    "https://pythonhosted.org/stravalib/usage/auth.html?highlight=my_strava_client_secret  \n",
    "https://developers.strava.com/docs/reference/  \n",
    "https://www.strava.com/settings/api"
   ]
  },
  {
   "cell_type": "code",
   "execution_count": 19,
   "metadata": {
    "collapsed": true
   },
   "outputs": [],
   "source": [
    "%%capture\n",
    "from stravalib.client import Client\n",
    "client = Client()\n",
    "client.access_token = \"\"\n",
    "athlete = client.get_athlete()\n",
    "#print(\"For {id}, I now have an access token {token}\".format(id=athlete.id, token=client.access_token))\n",
    "#print(\"Current athlete: \"+str(athlete))\n",
    "#print(\"Activities: \"+str(client.get_activities()))"
   ]
  },
  {
   "cell_type": "code",
   "execution_count": null,
   "metadata": {
    "collapsed": true
   },
   "outputs": [],
   "source": [
    "activities =client.get_activities()\n",
    "sample = list(activities)[0]\n",
    "sample.to_dict()"
   ]
  },
  {
   "cell_type": "markdown",
   "metadata": {},
   "source": [
    "### Select columns of interst"
   ]
  },
  {
   "cell_type": "code",
   "execution_count": 4,
   "metadata": {
    "collapsed": true
   },
   "outputs": [],
   "source": [
    "cols =['name',\n",
    "       'average_speed',\n",
    "       'average_heartrate',\n",
    "       'average_watts', \n",
    "       'distance',\n",
    "       'elapsed_time',\n",
    "       'total_elevation_gain',\n",
    "       'type', \n",
    "       'start_date_local']"
   ]
  },
  {
   "cell_type": "code",
   "execution_count": 10,
   "metadata": {
    "collapsed": true
   },
   "outputs": [],
   "source": [
    "%%capture\n",
    "data = []\n",
    "for activity in activities:\n",
    "    my_dict = activity.to_dict()\n",
    "    data.append([my_dict.get(x) for x in my_cols])\n",
    "    \n",
    "import pandas as pd\n",
    "df = pd.DataFrame(data, columns=my_cols)\n"
   ]
  },
  {
   "cell_type": "markdown",
   "metadata": {},
   "source": [
    "## Start Time"
   ]
  },
  {
   "cell_type": "code",
   "execution_count": 43,
   "metadata": {},
   "outputs": [
    {
     "data": {
      "image/png": "[encoded data removed]",
      "text/plain": [
       "<matplotlib.figure.Figure at 0x1781aaa6dd8>"
      ]
     },
     "metadata": {},
     "output_type": "display_data"
    }
   ],
   "source": [
    "import matplotlib.pyplot as plt\n",
    "%matplotlib inline\n",
    "\n",
    "from datetime import datetime\n",
    "df[\"start_hour\"] =  df[\"start_date_local\"].apply(lambda x : datetime.strptime(x, \"%Y-%m-%dT%H:%M:%S\").strftime(\"%H\"))\n",
    "\n",
    "plt.hist(x=df.loc[df[\"type\"]==\"Ride\",[\"start_hour\"]], bins= range(int(df[\"start_hour\"].min()), int(df[\"start_hour\"].max())), color='#0504aa', alpha=0.7, rwidth=0.85);"
   ]
  },
  {
   "cell_type": "markdown",
   "metadata": {},
   "source": [
    "# Late rides"
   ]
  },
  {
   "cell_type": "code",
   "execution_count": 49,
   "metadata": {},
   "outputs": [
    {
     "data": {
      "text/html": [
       "<div>\n",
       "<style scoped>\n",
       "    .dataframe tbody tr th:only-of-type {\n",
       "        vertical-align: middle;\n",
       "    }\n",
       "\n",
       "    .dataframe tbody tr th {\n",
       "        vertical-align: top;\n",
       "    }\n",
       "\n",
       "    .dataframe thead th {\n",
       "        text-align: right;\n",
       "    }\n",
       "</style>\n",
       "<table border=\"1\" class=\"dataframe\">\n",
       "  <thead>\n",
       "    <tr style=\"text-align: right;\">\n",
       "      <th></th>\n",
       "      <th>name</th>\n",
       "      <th>start_date_local</th>\n",
       "      <th>start_hour_int</th>\n",
       "    </tr>\n",
       "  </thead>\n",
       "  <tbody>\n",
       "    <tr>\n",
       "      <th>129</th>\n",
       "      <td>Indoor</td>\n",
       "      <td>2017-03-30T21:27:36</td>\n",
       "      <td>21</td>\n",
       "    </tr>\n",
       "    <tr>\n",
       "      <th>132</th>\n",
       "      <td>Indoor</td>\n",
       "      <td>2017-03-20T21:59:24</td>\n",
       "      <td>21</td>\n",
       "    </tr>\n",
       "    <tr>\n",
       "      <th>134</th>\n",
       "      <td>Indoor</td>\n",
       "      <td>2017-03-14T21:23:50</td>\n",
       "      <td>21</td>\n",
       "    </tr>\n",
       "    <tr>\n",
       "      <th>135</th>\n",
       "      <td>Indoor</td>\n",
       "      <td>2017-03-13T21:34:17</td>\n",
       "      <td>21</td>\n",
       "    </tr>\n",
       "    <tr>\n",
       "      <th>137</th>\n",
       "      <td>Indoor</td>\n",
       "      <td>2017-03-09T21:12:33</td>\n",
       "      <td>21</td>\n",
       "    </tr>\n",
       "    <tr>\n",
       "      <th>139</th>\n",
       "      <td>Indoor 4</td>\n",
       "      <td>2017-02-06T21:41:58</td>\n",
       "      <td>21</td>\n",
       "    </tr>\n",
       "    <tr>\n",
       "      <th>140</th>\n",
       "      <td>Indoor 3</td>\n",
       "      <td>2017-01-30T21:22:47</td>\n",
       "      <td>21</td>\n",
       "    </tr>\n",
       "    <tr>\n",
       "      <th>142</th>\n",
       "      <td>Indoor 1</td>\n",
       "      <td>2017-01-23T21:45:55</td>\n",
       "      <td>21</td>\n",
       "    </tr>\n",
       "    <tr>\n",
       "      <th>149</th>\n",
       "      <td>Bitzen</td>\n",
       "      <td>2016-08-05T21:28:47</td>\n",
       "      <td>21</td>\n",
       "    </tr>\n",
       "    <tr>\n",
       "      <th>155</th>\n",
       "      <td>Vom Badminton</td>\n",
       "      <td>2016-06-23T21:03:53</td>\n",
       "      <td>21</td>\n",
       "    </tr>\n",
       "  </tbody>\n",
       "</table>\n",
       "</div>"
      ],
      "text/plain": [
       "               name     start_date_local  start_hour_int\n",
       "129          Indoor  2017-03-30T21:27:36              21\n",
       "132         Indoor   2017-03-20T21:59:24              21\n",
       "134          Indoor  2017-03-14T21:23:50              21\n",
       "135          Indoor  2017-03-13T21:34:17              21\n",
       "137          Indoor  2017-03-09T21:12:33              21\n",
       "139        Indoor 4  2017-02-06T21:41:58              21\n",
       "140        Indoor 3  2017-01-30T21:22:47              21\n",
       "142        Indoor 1  2017-01-23T21:45:55              21\n",
       "149          Bitzen  2016-08-05T21:28:47              21\n",
       "155  Vom Badminton   2016-06-23T21:03:53              21"
      ]
     },
     "execution_count": 49,
     "metadata": {},
     "output_type": "execute_result"
    }
   ],
   "source": [
    "df[\"start_hour_int\"] = df[\"start_hour\"].apply(lambda x: int(x))\n",
    "df.loc[(df[\"type\"]==\"Ride\") & (df[\"start_hour_int\"] > 20), ['name',\"start_date_local\", \"start_hour_int\"]]\n",
    "#df[df.start_hour > 21]"
   ]
  }
 ],
 "metadata": {
  "kernelspec": {
   "display_name": "Python 3",
   "language": "python",
   "name": "python3"
  },
  "language_info": {
   "codemirror_mode": {
    "name": "ipython",
    "version": 3
   },
   "file_extension": ".py",
   "mimetype": "text/x-python",
   "name": "python",
   "nbconvert_exporter": "python",
   "pygments_lexer": "ipython3",
   "version": "3.6.3"
  }
 },
 "nbformat": 4,
 "nbformat_minor": 2
}
