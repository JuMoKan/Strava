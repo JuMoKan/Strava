{
 "cells": [
  {
   "cell_type": "code",
   "execution_count": 19,
   "metadata": {},
   "outputs": [],
   "source": [
    "%%capture\n",
    "from stravalib.client import Client\n",
    "client = Client()\n",
    "client.access_token = \"\"\n",
    "athlete = client.get_athlete()\n",
    "#print(\"For {id}, I now have an access token {token}\".format(id=athlete.id, token=client.access_token))\n",
    "#print(\"Current athlete: \"+str(athlete))\n",
    "#print(\"Activities: \"+str(client.get_activities()))"
   ]
  },
  {
   "cell_type": "code",
   "execution_count": null,
   "metadata": {
    "collapsed": true
   },
   "outputs": [],
   "source": [
    "activities =client.get_activities()\n",
    "sample = list(activities)[0]\n",
    "sample.to_dict()"
   ]
  },
  {
   "cell_type": "code",
   "execution_count": 4,
   "metadata": {
    "collapsed": true
   },
   "outputs": [],
   "source": [
    "my_cols =['name',\n",
    "          'average_speed',\n",
    "          'average_heartrate',\n",
    "          'average_watts', \n",
    "          'distance',\n",
    "          'elapsed_time',\n",
    "          'total_elevation_gain',\n",
    "          'type', \n",
    "          'start_date_local']"
   ]
  },
  {
   "cell_type": "code",
   "execution_count": 10,
   "metadata": {},
   "outputs": [],
   "source": [
    "%%capture\n",
    "data = []\n",
    "for activity in activities:\n",
    "    my_dict = activity.to_dict()\n",
    "    data.append([my_dict.get(x) for x in my_cols])\n",
    "    \n",
    "import pandas as pd\n",
    "df = pd.DataFrame(data, columns=my_cols)\n"
   ]
  },
  {
   "cell_type": "markdown",
   "metadata": {},
   "source": [
    "## Start Time"
   ]
  },
  {
   "cell_type": "code",
   "execution_count": 20,
   "metadata": {},
   "outputs": [
    {
     "data": {
      "image/png": "[encoded data removed]",
      "text/plain": [
       "<matplotlib.figure.Figure at 0x1781a46a4a8>"
      ]
     },
     "metadata": {},
     "output_type": "display_data"
    }
   ],
   "source": [
    "import matplotlib.pyplot as plt\n",
    "%matplotlib inline\n",
    "\n",
    "from datetime import datetime\n",
    "df[\"start_hour\"] =  df[\"start_date_local\"].apply(lambda x : datetime.strptime(x, \"%Y-%m-%dT%H:%M:%S\").strftime(\"%H\"))\n",
    "\n",
    "plt.hist(x=df[\"start_hour\"], bins= range(int(df[\"start_hour\"].min()), int(df[\"start_hour\"].max())), color='#0504aa', alpha=0.7, rwidth=0.85);"
   ]
  }
 ],
 "metadata": {
  "kernelspec": {
   "display_name": "Python 3",
   "language": "python",
   "name": "python3"
  },
  "language_info": {
   "codemirror_mode": {
    "name": "ipython",
    "version": 3
   },
   "file_extension": ".py",
   "mimetype": "text/x-python",
   "name": "python",
   "nbconvert_exporter": "python",
   "pygments_lexer": "ipython3",
   "version": "3.6.3"
  }
 },
 "nbformat": 4,
 "nbformat_minor": 2
}
